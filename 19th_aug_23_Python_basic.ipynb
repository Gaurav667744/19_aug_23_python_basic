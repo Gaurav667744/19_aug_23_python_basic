{
 "cells": [
  {
   "cell_type": "markdown",
   "id": "2f783247-68b9-4b7f-9118-027cb26797ca",
   "metadata": {},
   "source": [
    "####### TOPIC: Python Basics Variable\n",
    "### Ques_1 - Declare two variables, `x` and `y`, and assign them integer values. Swap the values of these variables without using any temporary variable."
   ]
  },
  {
   "cell_type": "code",
   "execution_count": 38,
   "id": "f56f679f-d041-4c8c-b0e6-3e9e74797a94",
   "metadata": {},
   "outputs": [],
   "source": [
    "x = 10 \n",
    "y = 20"
   ]
  },
  {
   "cell_type": "code",
   "execution_count": 2,
   "id": "36774b7a-b13d-4cf2-9e61-442460839bab",
   "metadata": {},
   "outputs": [],
   "source": [
    "y = x + y\n",
    "x = y - x\n",
    "y = y - x"
   ]
  },
  {
   "cell_type": "code",
   "execution_count": 3,
   "id": "f2189e12-1b9c-4dab-ab1f-6d1a1f410ec0",
   "metadata": {},
   "outputs": [
    {
     "data": {
      "text/plain": [
       "20"
      ]
     },
     "execution_count": 3,
     "metadata": {},
     "output_type": "execute_result"
    }
   ],
   "source": [
    "x "
   ]
  },
  {
   "cell_type": "code",
   "execution_count": 4,
   "id": "938109ec-3a8b-4222-a00d-a53538ce3170",
   "metadata": {},
   "outputs": [
    {
     "data": {
      "text/plain": [
       "10"
      ]
     },
     "execution_count": 4,
     "metadata": {},
     "output_type": "execute_result"
    }
   ],
   "source": [
    "y"
   ]
  },
  {
   "cell_type": "markdown",
   "id": "80b81102-cb7b-46ed-919b-961251fa2d5f",
   "metadata": {},
   "source": [
    "######            or "
   ]
  },
  {
   "cell_type": "code",
   "execution_count": 43,
   "id": "9cd7ba9b-c631-486b-a58f-cb873fb9d5cf",
   "metadata": {},
   "outputs": [],
   "source": [
    "x,y = y,x"
   ]
  },
  {
   "cell_type": "code",
   "execution_count": 40,
   "id": "9aeffb0f-c2e8-495b-bf91-0f0eb56fd265",
   "metadata": {},
   "outputs": [
    {
     "data": {
      "text/plain": [
       "20"
      ]
     },
     "execution_count": 40,
     "metadata": {},
     "output_type": "execute_result"
    }
   ],
   "source": [
    "x"
   ]
  },
  {
   "cell_type": "code",
   "execution_count": 41,
   "id": "798938eb-fd38-49bb-b122-ab384c5e88c8",
   "metadata": {},
   "outputs": [
    {
     "data": {
      "text/plain": [
       "10"
      ]
     },
     "execution_count": 41,
     "metadata": {},
     "output_type": "execute_result"
    }
   ],
   "source": [
    "y"
   ]
  },
  {
   "cell_type": "markdown",
   "id": "efc28a4f-b2d4-41de-8933-e3fcad38debc",
   "metadata": {},
   "source": [
    "### Ques_2 - Create a program that calculates the area of a rectangle. Take the length and width as inputs from the user and store them in variables. Calculate and display the area."
   ]
  },
  {
   "cell_type": "code",
   "execution_count": 5,
   "id": "f982025b-6065-40d6-a921-4dd3d35c4ed8",
   "metadata": {},
   "outputs": [
    {
     "name": "stdin",
     "output_type": "stream",
     "text": [
      "enter the value of length 10\n",
      "enter the value of widdth 20\n"
     ]
    },
    {
     "name": "stdout",
     "output_type": "stream",
     "text": [
      "area of a rectangle is 200\n"
     ]
    }
   ],
   "source": [
    "length = int(input(\"enter the value of length\"))\n",
    "width = int(input(\"enter the value of widdth\"))\n",
    "area = length * width \n",
    "print(\"area of a rectangle is\",area)"
   ]
  },
  {
   "cell_type": "markdown",
   "id": "9bb31092-a861-4d1a-a052-d3156fce2dde",
   "metadata": {},
   "source": [
    "### Ques_3- Write a Python program that converts temperatures from Celsius to Fahrenheit. Take the temperature in Celsius as input, store it in a variable, convert it to Fahrenheit, and display the result."
   ]
  },
  {
   "cell_type": "code",
   "execution_count": 1,
   "id": "91b2648a-b3a0-45a9-ae7c-aec6d37e1699",
   "metadata": {},
   "outputs": [
    {
     "name": "stdin",
     "output_type": "stream",
     "text": [
      "enter the celsius temperature is 5\n"
     ]
    },
    {
     "name": "stdout",
     "output_type": "stream",
     "text": [
      "temparature of fahrenheit_temperature 41.0\n"
     ]
    }
   ],
   "source": [
    "celsius_temperature = int(input(\"enter the celsius temperature is\"))\n",
    "\n",
    "fahrenheit_temperature = (celsius_temperature * 9 / 5) + 32 \n",
    "\n",
    "print(\"temparature of fahrenheit_temperature\", fahrenheit_temperature)"
   ]
  },
  {
   "cell_type": "markdown",
   "id": "0c7ed1c3-0c87-4e30-b64b-cf14d7ed2ae4",
   "metadata": {},
   "source": [
    "####          TOPIC: String Based Questions\n",
    "### Ques_1- Write a Python program that takes a string as input and prints the length of the string."
   ]
  },
  {
   "cell_type": "code",
   "execution_count": 17,
   "id": "1495a8c3-3c23-467b-8249-208206da2333",
   "metadata": {},
   "outputs": [
    {
     "name": "stdin",
     "output_type": "stream",
     "text": [
      "enter the string word i am non-tech student.\n"
     ]
    },
    {
     "data": {
      "text/plain": [
       "22"
      ]
     },
     "execution_count": 17,
     "metadata": {},
     "output_type": "execute_result"
    }
   ],
   "source": [
    "string =input(\"enter the string word\")\n",
    "length_of_string = len(string) \n",
    "length_of_string"
   ]
  },
  {
   "cell_type": "markdown",
   "id": "152f7741-381e-4910-9cb4-73f19454086b",
   "metadata": {},
   "source": [
    "### Ques_2  Create a program that takes a sentence from the user and counts the number of vowels (a, e, i, o, u) in the string."
   ]
  },
  {
   "cell_type": "code",
   "execution_count": 27,
   "id": "908b7c47-78b4-40b8-969b-e72fd2a64040",
   "metadata": {},
   "outputs": [],
   "source": [
    "def count_vowels(sentence):\n",
    "    vowels = 'aeiouAIOUE'\n",
    "    vowel_count = 0\n",
    "    for i in sentence:\n",
    "        if i in vowels:\n",
    "            vowel_count += 1\n",
    "    return vowel_count"
   ]
  },
  {
   "cell_type": "code",
   "execution_count": 28,
   "id": "e296d407-9234-4de8-b022-65b5b0015ea7",
   "metadata": {},
   "outputs": [
    {
     "data": {
      "text/plain": [
       "6"
      ]
     },
     "execution_count": 28,
     "metadata": {},
     "output_type": "execute_result"
    }
   ],
   "source": [
    "count_vowels(\"my name is gaurav\")"
   ]
  },
  {
   "cell_type": "markdown",
   "id": "fcc5d836-471e-4859-b4fb-e04cf922082d",
   "metadata": {},
   "source": [
    "### Ques_3 - Given a string, reverse the order of characters using string slicing and print the reversed string."
   ]
  },
  {
   "cell_type": "code",
   "execution_count": 32,
   "id": "17baa76c-ec4c-47e0-9083-4a9600448dfc",
   "metadata": {},
   "outputs": [
    {
     "data": {
      "text/plain": [
       "'gnirts'"
      ]
     },
     "execution_count": 32,
     "metadata": {},
     "output_type": "execute_result"
    }
   ],
   "source": [
    "a = \"string\"\n",
    "a[::-1]"
   ]
  },
  {
   "cell_type": "code",
   "execution_count": null,
   "id": "e2e1c278-0b48-4ad6-9b57-39e55b494e23",
   "metadata": {},
   "outputs": [],
   "source": []
  },
  {
   "cell_type": "markdown",
   "id": "bac9fcd7-1285-4435-9562-124defb0349f",
   "metadata": {},
   "source": [
    "### Ques_4 - Write a program that takes a string as input and checks if it is a palindrome (reads the same forwards and backwards).\n"
   ]
  },
  {
   "cell_type": "code",
   "execution_count": 34,
   "id": "415b124d-7e0a-4d1d-9e4a-8cd9b76df0a1",
   "metadata": {},
   "outputs": [
    {
     "name": "stdout",
     "output_type": "stream",
     "text": [
      "it is palindrome\n"
     ]
    }
   ],
   "source": [
    "a = \"deed\"\n",
    "b = a[::-1]\n",
    "if a==b:\n",
    "    print(\"it is palindrome\")\n",
    "else :\n",
    "    print(\"it is not palimfrome\")\n"
   ]
  },
  {
   "cell_type": "markdown",
   "id": "5e21fe84-a0d5-4799-b5ce-df5399210647",
   "metadata": {},
   "source": [
    "### Ques_5 - Write a program that takes a string as input and checks if it is a palindrome (reads the same forwards and backwards).\n"
   ]
  },
  {
   "cell_type": "code",
   "execution_count": 35,
   "id": "b0418da0-5f0c-484f-a3ae-2b1345702036",
   "metadata": {},
   "outputs": [
    {
     "name": "stdout",
     "output_type": "stream",
     "text": [
      "it is palindrome\n"
     ]
    }
   ],
   "source": [
    "a = \"repaper\"\n",
    "b = a[::-1]\n",
    "if a==b:\n",
    "    print(\"it is palindrome\")\n",
    "else :\n",
    "    print(\"it is not palimfrome\")"
   ]
  },
  {
   "cell_type": "code",
   "execution_count": null,
   "id": "1d9c6161-ed54-4251-aec3-273797903669",
   "metadata": {},
   "outputs": [],
   "source": []
  },
  {
   "cell_type": "code",
   "execution_count": null,
   "id": "700b4160-48a9-4b46-bf75-a5035e4040a2",
   "metadata": {},
   "outputs": [],
   "source": []
  },
  {
   "cell_type": "code",
   "execution_count": null,
   "id": "ed481bcc-4748-482d-9925-0ab95d34ca68",
   "metadata": {},
   "outputs": [],
   "source": []
  },
  {
   "cell_type": "code",
   "execution_count": null,
   "id": "3195b617-f7a8-4687-b481-233f68e821d1",
   "metadata": {},
   "outputs": [],
   "source": []
  }
 ],
 "metadata": {
  "kernelspec": {
   "display_name": "Python 3 (ipykernel)",
   "language": "python",
   "name": "python3"
  },
  "language_info": {
   "codemirror_mode": {
    "name": "ipython",
    "version": 3
   },
   "file_extension": ".py",
   "mimetype": "text/x-python",
   "name": "python",
   "nbconvert_exporter": "python",
   "pygments_lexer": "ipython3",
   "version": "3.10.8"
  }
 },
 "nbformat": 4,
 "nbformat_minor": 5
}
